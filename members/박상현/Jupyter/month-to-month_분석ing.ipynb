{
 "cells": [
  {
   "cell_type": "code",
   "execution_count": 1,
   "id": "1a4fd74b-48c2-46f1-b0bd-d8749330f312",
   "metadata": {},
   "outputs": [],
   "source": [
    "import numpy as np\n",
    "import pandas as pd\n",
    "import matplotlib.pyplot as plt\n",
    "import seaborn as sns\n",
    "\n",
    "# 그래프 기본 테마 설정\n",
    "# https://coldbrown.co.kr/2023/07/%ED%8C%8C%EC%9D%B4%EC%8D%AC-%EC%8B%A4%EC%A0%84%ED%8E%B8-08-seaborn-sns-set%EC%9D%84-%ED%86%B5%ED%95%B4-%EC%8A%A4%ED%83%80%EC%9D%BC-%EC%84%A4%EC%A0%95%ED%95%98%EA%B8%B0/\n",
    "sns.set()\n",
    "\n",
    "# 그래프 기본 설정\n",
    "plt.rcParams['font.family'] = 'Malgun Gothic'\n",
    "# plt.rcParams['font.family'] = 'AppleGothic'\n",
    "plt.rcParams['figure.figsize'] = 12, 6\n",
    "plt.rcParams['font.size'] = 14\n",
    "plt.rcParams['axes.unicode_minus'] = False\n",
    "\n",
    "\n",
    "# 복잡한 통계 처리를 위한 라이브러리\n",
    "from scipy import stats"
   ]
  },
  {
   "cell_type": "code",
   "execution_count": 47,
   "id": "ec934332-bb6a-4d83-816e-b71684e74685",
   "metadata": {},
   "outputs": [],
   "source": [
    "data1 = pd.read_csv('../data/reason_notnull.csv')"
   ]
  },
  {
   "cell_type": "code",
   "execution_count": 49,
   "id": "fbe0b1c4-21d1-4c33-97eb-a27349705bb2",
   "metadata": {},
   "outputs": [],
   "source": [
    "tel = pd.read_csv('../data/tel_data_전처리.csv')"
   ]
  },
  {
   "cell_type": "code",
   "execution_count": 21,
   "id": "824eef4f-c69d-44b0-a746-d322ee9fa7d6",
   "metadata": {},
   "outputs": [
    {
     "data": {
      "text/plain": [
       "한글이탈이유\n",
       "지원 담당자의 태도                192\n",
       "경쟁사가 더 빠른 다운로드 속도를 제공함    189\n",
       "경쟁사가 더 많은 데이터를 제공함        162\n",
       "모르겠다                      154\n",
       "경쟁사가 더 나은 제안을 했습니다        140\n",
       "서비스 제공업체의 태도              135\n",
       "경쟁사가 더 나은 기기를 보유했습니다      130\n",
       "네트워크 안정성                  103\n",
       "제품 불만족                    102\n",
       "가격이 너무 높음                  98\n",
       "서비스 불만족                    89\n",
       "웹사이트의 셀프 서비스 부족            88\n",
       "추가 데이터 요금                  57\n",
       "이동했습니다                     53\n",
       "제한된 서비스 범위                 44\n",
       "저렴한 다운로드/업로드 속도 부족         44\n",
       "장거리 요금                     44\n",
       "전화 지원의 전문성 부족              20\n",
       "온라인 지원의 전문성 부족             19\n",
       "사망                          6\n",
       "Name: count, dtype: int64"
      ]
     },
     "execution_count": 21,
     "metadata": {},
     "output_type": "execute_result"
    }
   ],
   "source": [
    "data1['한글이탈이유'].value_counts()"
   ]
  },
  {
   "cell_type": "markdown",
   "id": "5541b20b-6629-4549-8b87-6628648d91e2",
   "metadata": {},
   "source": [
    "### 원래 데이터셋(tel)과 한글이탈이유가 있는 데이터셋(안에서 이탈이유) 병합"
   ]
  },
  {
   "cell_type": "code",
   "execution_count": 53,
   "id": "81a7bf4d-eaef-444e-8097-cead8c3e3650",
   "metadata": {},
   "outputs": [],
   "source": [
    "# 고객ID 기준으로 merge\n",
    "tel_merged = tel.merge(\n",
    "    data1[['고객ID', '한글이탈이유']], \n",
    "    on='고객ID', \n",
    "    how='left'\n",
    ")"
   ]
  },
  {
   "cell_type": "code",
   "execution_count": 57,
   "id": "5469d944-ee08-4f16-800c-ea85d904c34d",
   "metadata": {},
   "outputs": [],
   "source": [
    "tel_merged['한글이탈이유'] = tel_merged['한글이탈이유'].fillna('no answer')"
   ]
  },
  {
   "cell_type": "code",
   "execution_count": 1,
   "id": "9b7505f7-5d45-40c2-a9c4-c8c5dcd47eca",
   "metadata": {},
   "outputs": [
    {
     "ename": "NameError",
     "evalue": "name 'data1' is not defined",
     "output_type": "error",
     "traceback": [
      "\u001b[1;31m---------------------------------------------------------------------------\u001b[0m",
      "\u001b[1;31mNameError\u001b[0m                                 Traceback (most recent call last)",
      "Cell \u001b[1;32mIn[1], line 1\u001b[0m\n\u001b[1;32m----> 1\u001b[0m data1[\u001b[38;5;124m'\u001b[39m\u001b[38;5;124m기술지원서비스여부\u001b[39m\u001b[38;5;124m'\u001b[39m]\u001b[38;5;241m.\u001b[39mvalue_counts()\n",
      "\u001b[1;31mNameError\u001b[0m: name 'data1' is not defined"
     ]
    }
   ],
   "source": [
    "data1['기술지원서비스여부'].value_counts()"
   ]
  },
  {
   "cell_type": "code",
   "execution_count": null,
   "id": "dd22b1ca-8916-4cf3-8594-d9e232943e04",
   "metadata": {},
   "outputs": [],
   "source": []
  }
 ],
 "metadata": {
  "kernelspec": {
   "display_name": "Python [conda env:base] *",
   "language": "python",
   "name": "conda-base-py"
  },
  "language_info": {
   "codemirror_mode": {
    "name": "ipython",
    "version": 3
   },
   "file_extension": ".py",
   "mimetype": "text/x-python",
   "name": "python",
   "nbconvert_exporter": "python",
   "pygments_lexer": "ipython3",
   "version": "3.12.7"
  }
 },
 "nbformat": 4,
 "nbformat_minor": 5
}
